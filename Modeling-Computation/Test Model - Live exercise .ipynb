{
 "cells": [
  {
   "cell_type": "markdown",
   "metadata": {},
   "source": [
    "### Import required libraries"
   ]
  },
  {
   "cell_type": "code",
   "execution_count": 1,
   "metadata": {},
   "outputs": [],
   "source": [
    "\n",
    "import pymysql\n",
    "from cryptography.fernet import Fernet\n",
    "import json\n",
    "from collections import namedtuple\n",
    "import time\n",
    "import numpy as np\n",
    "import matplotlib.mlab as mlab\n",
    "import matplotlib.pyplot as plt\n",
    "import pandas as pd\n",
    "from sqlalchemy import create_engine \n",
    "from sklearn import model_selection\n",
    "from sklearn.metrics import classification_report as cr\n",
    "from sklearn.metrics import confusion_matrix\n",
    "from sklearn.metrics import accuracy_score\n",
    "from yellowbrick.classifier import ClassificationReport\n",
    "from yellowbrick.features import FeatureImportances\n",
    "\n",
    "from imblearn.over_sampling import SMOTE \n",
    "from collections import Counter\n",
    "import pickle\n",
    "\n",
    "%matplotlib inline"
   ]
  },
  {
   "cell_type": "markdown",
   "metadata": {},
   "source": [
    "### Decrypt Credentials and Connect to Database"
   ]
  },
  {
   "cell_type": "code",
   "execution_count": 2,
   "metadata": {},
   "outputs": [],
   "source": [
    "#Uncode the secret license file\n",
    "def unencrypt():\n",
    "    try:\n",
    "        key = b'IXx5rHfP15FqP4ahx2pwcud-XmcBzU553Ri6p-nVhnc=' #Fernet.generate_key()\n",
    "        cipher_suite = Fernet(key)\n",
    "        with open('/usr/local/etc/musicmood_bytes.bin', 'rb') as file_object:\n",
    "            for line in file_object:\n",
    "                encryptedpwd = line\n",
    "        uncipher_text = (cipher_suite.decrypt(encryptedpwd))\n",
    "        plain_text_encryptedpassword = bytes(uncipher_text).decode(\"utf-8\") #convert to string\n",
    "        x = json.loads(plain_text_encryptedpassword, object_hook=lambda d: namedtuple('X', d.keys())(*d.values()))\n",
    "        return x\n",
    "    except Exception as e:\n",
    "        print(str(e))\n",
    "        return \"Error\" \n",
    "\n",
    "#Setup the database connection\n",
    "credentials = unencrypt()\n",
    "user_id = credentials.user\n",
    "user_password = credentials.password\n",
    "dbname = credentials.dbname\n",
    "server = credentials.server\n",
    "conn = pymysql.connect(server,user_id,user_password,dbname)"
   ]
  },
  {
   "cell_type": "markdown",
   "metadata": {},
   "source": [
    "### Load the TEST dataset"
   ]
  },
  {
   "cell_type": "code",
   "execution_count": 3,
   "metadata": {},
   "outputs": [
    {
     "name": "stdout",
     "output_type": "stream",
     "text": [
      "--- 0.04061388969421387 seconds ---\n",
      "Index(['?trackid', 'song', 'artist', 'year', 'lyrics', 'source', 'duration',\n",
      "       ' loudness', ' mode', ' time_signature', ' words_song', ' words_genre',\n",
      "       ' words_second', ' tempo', ' artist_hotttnesss', ' gnr_Blues',\n",
      "       ' gnr_Country', ' gnr_Folk', ' gnr_Funk',\n",
      "       ' gnr_House Electronic Trance', ' gnr_Jazz', ' gnr_Latin', ' gnr_Metal',\n",
      "       ' gnr_Pop', ' gnr_Pop Standards', ' gnr_Punk', ' gnr_Rap Hip Hop',\n",
      "       ' gnr_Rhythm and Blues', ' gnr_Rock', ' gnr_Rock and Roll',\n",
      "       ' gnr_Ska Reggae Dancehall', ' key_0', ' key_1', ' key_2', ' key_4',\n",
      "       ' key_5', ' key_6', ' key_7', ' key_8', ' key_9', ' key_10', ' key_11',\n",
      "       ' is_top40'],\n",
      "      dtype='object')\n"
     ]
    }
   ],
   "source": [
    "start_time = time.time()\n",
    "df = pd.read_sql('SELECT * FROM TEST_DATA', con = conn)\n",
    "print('--- %s seconds ---' % (time.time() - start_time))\n",
    "\n",
    "df.describe()\n",
    "df.head()\n",
    "print(df.columns)"
   ]
  },
  {
   "cell_type": "markdown",
   "metadata": {},
   "source": [
    "### Visualize only important features (not related with the rankings)"
   ]
  },
  {
   "cell_type": "code",
   "execution_count": 4,
   "metadata": {},
   "outputs": [
    {
     "data": {
      "text/html": [
       "<div>\n",
       "<style scoped>\n",
       "    .dataframe tbody tr th:only-of-type {\n",
       "        vertical-align: middle;\n",
       "    }\n",
       "\n",
       "    .dataframe tbody tr th {\n",
       "        vertical-align: top;\n",
       "    }\n",
       "\n",
       "    .dataframe thead th {\n",
       "        text-align: right;\n",
       "    }\n",
       "</style>\n",
       "<table border=\"1\" class=\"dataframe\">\n",
       "  <thead>\n",
       "    <tr style=\"text-align: right;\">\n",
       "      <th></th>\n",
       "      <th>duration</th>\n",
       "      <th>loudness</th>\n",
       "      <th>mode</th>\n",
       "      <th>time_signature</th>\n",
       "      <th>words_song</th>\n",
       "      <th>words_genre</th>\n",
       "      <th>words_second</th>\n",
       "      <th>tempo</th>\n",
       "      <th>artist_hotttnesss</th>\n",
       "      <th>gnr_Blues</th>\n",
       "      <th>...</th>\n",
       "      <th>key_2</th>\n",
       "      <th>key_4</th>\n",
       "      <th>key_5</th>\n",
       "      <th>key_6</th>\n",
       "      <th>key_7</th>\n",
       "      <th>key_8</th>\n",
       "      <th>key_9</th>\n",
       "      <th>key_10</th>\n",
       "      <th>key_11</th>\n",
       "      <th>is_top40</th>\n",
       "    </tr>\n",
       "  </thead>\n",
       "  <tbody>\n",
       "    <tr>\n",
       "      <th>0</th>\n",
       "      <td>223</td>\n",
       "      <td>-10.922</td>\n",
       "      <td>1</td>\n",
       "      <td>4</td>\n",
       "      <td>185</td>\n",
       "      <td>222</td>\n",
       "      <td>1</td>\n",
       "      <td>135</td>\n",
       "      <td>0.493990</td>\n",
       "      <td>0</td>\n",
       "      <td>...</td>\n",
       "      <td>0</td>\n",
       "      <td>0</td>\n",
       "      <td>0</td>\n",
       "      <td>0</td>\n",
       "      <td>0</td>\n",
       "      <td>0</td>\n",
       "      <td>0</td>\n",
       "      <td>1</td>\n",
       "      <td>0</td>\n",
       "      <td>1</td>\n",
       "    </tr>\n",
       "    <tr>\n",
       "      <th>1</th>\n",
       "      <td>179</td>\n",
       "      <td>-10.837</td>\n",
       "      <td>0</td>\n",
       "      <td>4</td>\n",
       "      <td>256</td>\n",
       "      <td>229</td>\n",
       "      <td>2</td>\n",
       "      <td>91</td>\n",
       "      <td>0.459346</td>\n",
       "      <td>0</td>\n",
       "      <td>...</td>\n",
       "      <td>0</td>\n",
       "      <td>0</td>\n",
       "      <td>0</td>\n",
       "      <td>0</td>\n",
       "      <td>0</td>\n",
       "      <td>0</td>\n",
       "      <td>1</td>\n",
       "      <td>0</td>\n",
       "      <td>0</td>\n",
       "      <td>1</td>\n",
       "    </tr>\n",
       "    <tr>\n",
       "      <th>2</th>\n",
       "      <td>301</td>\n",
       "      <td>-6.006</td>\n",
       "      <td>1</td>\n",
       "      <td>4</td>\n",
       "      <td>397</td>\n",
       "      <td>285</td>\n",
       "      <td>2</td>\n",
       "      <td>107</td>\n",
       "      <td>0.469921</td>\n",
       "      <td>0</td>\n",
       "      <td>...</td>\n",
       "      <td>0</td>\n",
       "      <td>0</td>\n",
       "      <td>0</td>\n",
       "      <td>0</td>\n",
       "      <td>0</td>\n",
       "      <td>0</td>\n",
       "      <td>0</td>\n",
       "      <td>0</td>\n",
       "      <td>1</td>\n",
       "      <td>1</td>\n",
       "    </tr>\n",
       "    <tr>\n",
       "      <th>3</th>\n",
       "      <td>110</td>\n",
       "      <td>-12.808</td>\n",
       "      <td>1</td>\n",
       "      <td>1</td>\n",
       "      <td>162</td>\n",
       "      <td>263</td>\n",
       "      <td>1</td>\n",
       "      <td>109</td>\n",
       "      <td>0.379651</td>\n",
       "      <td>0</td>\n",
       "      <td>...</td>\n",
       "      <td>0</td>\n",
       "      <td>1</td>\n",
       "      <td>0</td>\n",
       "      <td>0</td>\n",
       "      <td>0</td>\n",
       "      <td>0</td>\n",
       "      <td>0</td>\n",
       "      <td>0</td>\n",
       "      <td>0</td>\n",
       "      <td>1</td>\n",
       "    </tr>\n",
       "    <tr>\n",
       "      <th>4</th>\n",
       "      <td>244</td>\n",
       "      <td>-12.575</td>\n",
       "      <td>0</td>\n",
       "      <td>4</td>\n",
       "      <td>302</td>\n",
       "      <td>382</td>\n",
       "      <td>1</td>\n",
       "      <td>104</td>\n",
       "      <td>0.568201</td>\n",
       "      <td>0</td>\n",
       "      <td>...</td>\n",
       "      <td>0</td>\n",
       "      <td>0</td>\n",
       "      <td>0</td>\n",
       "      <td>0</td>\n",
       "      <td>0</td>\n",
       "      <td>0</td>\n",
       "      <td>0</td>\n",
       "      <td>0</td>\n",
       "      <td>0</td>\n",
       "      <td>1</td>\n",
       "    </tr>\n",
       "  </tbody>\n",
       "</table>\n",
       "<p>5 rows × 37 columns</p>\n",
       "</div>"
      ],
      "text/plain": [
       "   duration   loudness   mode   time_signature   words_song   words_genre  \\\n",
       "0       223    -10.922      1                4          185           222   \n",
       "1       179    -10.837      0                4          256           229   \n",
       "2       301     -6.006      1                4          397           285   \n",
       "3       110    -12.808      1                1          162           263   \n",
       "4       244    -12.575      0                4          302           382   \n",
       "\n",
       "    words_second   tempo   artist_hotttnesss   gnr_Blues    ...       key_2  \\\n",
       "0              1     135            0.493990           0    ...           0   \n",
       "1              2      91            0.459346           0    ...           0   \n",
       "2              2     107            0.469921           0    ...           0   \n",
       "3              1     109            0.379651           0    ...           0   \n",
       "4              1     104            0.568201           0    ...           0   \n",
       "\n",
       "    key_4   key_5   key_6   key_7   key_8   key_9   key_10   key_11   is_top40  \n",
       "0       0       0       0       0       0       0        1        0          1  \n",
       "1       0       0       0       0       0       1        0        0          1  \n",
       "2       0       0       0       0       0       0        0        1          1  \n",
       "3       1       0       0       0       0       0        0        0          1  \n",
       "4       0       0       0       0       0       0        0        0          1  \n",
       "\n",
       "[5 rows x 37 columns]"
      ]
     },
     "execution_count": 4,
     "metadata": {},
     "output_type": "execute_result"
    }
   ],
   "source": [
    "test_data = df.select_dtypes(include=['float64','int64','uint8']).copy()\n",
    "\n",
    "test_data.drop(['source'], axis=1, inplace=True)\n",
    "test_data.head()"
   ]
  },
  {
   "cell_type": "code",
   "execution_count": 5,
   "metadata": {},
   "outputs": [],
   "source": [
    "array = test_data.values\n",
    "X = array[:,0:-1]\n",
    "Y = array[:,-1] #is_top40\n",
    "\n",
    "classes = [\"IsTop40\", \"NoHit\"]\n",
    "\n",
    "def plotting(name, model, X_val, Y_val, X_train, Y_train):\n",
    "    visualizer = ClassificationReport(model, classes=classes, support=True)\n",
    "    visualizer.fit(X_train, Y_train)  # Fit the visualizer and the model\n",
    "    visualizer.score(X_val, Y_val)  # Evaluate the model on the test data\n",
    "    g = visualizer.poof()             # Draw/show/poof the data"
   ]
  },
  {
   "cell_type": "code",
   "execution_count": 6,
   "metadata": {},
   "outputs": [
    {
     "data": {
      "image/png": "[encoded data removed]",
      "text/plain": [
       "<matplotlib.figure.Figure at 0x11789bcc0>"
      ]
     },
     "metadata": {},
     "output_type": "display_data"
    }
   ],
   "source": [
    "import numpy as np\n",
    "import matplotlib.pyplot as plt\n",
    "\n",
    "# the histogram of the data\n",
    "n, bins, patches = plt.hist(Y, facecolor='g')\n",
    "\n",
    "plt.xlabel('Value')\n",
    "plt.ylabel('Amount')\n",
    "plt.title('Is_Top_40')\n",
    "plt.grid(True)\n",
    "plt.show()"
   ]
  },
  {
   "cell_type": "markdown",
   "metadata": {},
   "source": [
    "### Random Forest Classifier"
   ]
  },
  {
   "cell_type": "code",
   "execution_count": 11,
   "metadata": {
    "scrolled": false
   },
   "outputs": [
    {
     "name": "stdout",
     "output_type": "stream",
     "text": [
      "0.6428571428571429\n",
      "0.6428571428571429\n",
      "[[23 12]\n",
      " [13 22]]\n"
     ]
    },
    {
     "data": {
      "image/png": "[encoded data removed]",
      "text/plain": [
       "<matplotlib.figure.Figure at 0x1a28092e48>"
      ]
     },
     "metadata": {},
     "output_type": "display_data"
    }
   ],
   "source": [
    "filename = 'RandomForestClassifier_model.sav'\n",
    "\n",
    "loaded_model, X_train, Y_train = pickle.load(open(filename, 'rb'))\n",
    "result = loaded_model.score(X, Y)\n",
    "print(result)\n",
    "\n",
    "predictions = loaded_model.predict(X)\n",
    "print(accuracy_score(Y, predictions))\n",
    "print(confusion_matrix(Y, predictions))\n",
    "plotting(filename, loaded_model, X, Y, X_train, Y_train)"
   ]
  },
  {
   "cell_type": "markdown",
   "metadata": {},
   "source": [
    "### Logistic Regression"
   ]
  },
  {
   "cell_type": "code",
   "execution_count": 12,
   "metadata": {},
   "outputs": [
    {
     "name": "stdout",
     "output_type": "stream",
     "text": [
      "0.5285714285714286\n",
      "0.5285714285714286\n",
      "[[17 18]\n",
      " [15 20]]\n"
     ]
    },
    {
     "data": {
      "image/png": "[encoded data removed]",
      "text/plain": [
       "<matplotlib.figure.Figure at 0x1a25cf92e8>"
      ]
     },
     "metadata": {},
     "output_type": "display_data"
    }
   ],
   "source": [
    "filename = 'LogisticRegression_model.sav'\n",
    "\n",
    "loaded_model, X_train, Y_train = pickle.load(open(filename, 'rb'))\n",
    "result = loaded_model.score(X, Y)\n",
    "print(result)\n",
    "\n",
    "predictions = loaded_model.predict(X)\n",
    "print(accuracy_score(Y, predictions))\n",
    "print(confusion_matrix(Y, predictions))\n",
    "plotting(filename, loaded_model, X, Y, X_train, Y_train)"
   ]
  },
  {
   "cell_type": "markdown",
   "metadata": {},
   "source": [
    "### AdaBoost Classifier"
   ]
  },
  {
   "cell_type": "code",
   "execution_count": 13,
   "metadata": {},
   "outputs": [
    {
     "name": "stdout",
     "output_type": "stream",
     "text": [
      "0.5428571428571428\n",
      "0.5428571428571428\n",
      "[[15 20]\n",
      " [12 23]]\n"
     ]
    },
    {
     "data": {
      "image/png": "[encoded data removed]",
      "text/plain": [
       "<matplotlib.figure.Figure at 0x1a240db1d0>"
      ]
     },
     "metadata": {},
     "output_type": "display_data"
    }
   ],
   "source": [
    "filename = 'AdaBoostClassifier_model.sav'\n",
    "\n",
    "loaded_model, X_train, Y_train = pickle.load(open(filename, 'rb'))\n",
    "result = loaded_model.score(X, Y)\n",
    "print(result)\n",
    "\n",
    "predictions = loaded_model.predict(X)\n",
    "print(accuracy_score(Y, predictions))\n",
    "print(confusion_matrix(Y, predictions))\n",
    "plotting(filename, loaded_model, X, Y, X_train, Y_train)"
   ]
  },
  {
   "cell_type": "code",
   "execution_count": null,
   "metadata": {},
   "outputs": [],
   "source": []
  }
 ],
 "metadata": {
  "kernelspec": {
   "display_name": "Python [default]",
   "language": "python",
   "name": "python3"
  },
  "language_info": {
   "codemirror_mode": {
    "name": "ipython",
    "version": 3
   },
   "file_extension": ".py",
   "mimetype": "text/x-python",
   "name": "python",
   "nbconvert_exporter": "python",
   "pygments_lexer": "ipython3",
   "version": "3.6.4"
  }
 },
 "nbformat": 4,
 "nbformat_minor": 2
}

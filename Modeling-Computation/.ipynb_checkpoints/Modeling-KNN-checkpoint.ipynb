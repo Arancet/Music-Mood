{
 "cells": [
  {
   "cell_type": "markdown",
   "metadata": {},
   "source": [
    "### Import required libraries"
   ]
  },
  {
   "cell_type": "code",
   "execution_count": null,
   "metadata": {},
   "outputs": [],
   "source": [
    "\n",
    "import pymysql\n",
    "from cryptography.fernet import Fernet\n",
    "import json\n",
    "from collections import namedtuple\n",
    "import time\n",
    "import numpy as np\n",
    "import matplotlib.mlab as mlab\n",
    "import matplotlib.pyplot as plt\n",
    "import pandas as pd\n",
    "from sqlalchemy import create_engine \n",
    "from sklearn import model_selection\n",
    "from sklearn.metrics import classification_report as cr\n",
    "from sklearn.metrics import confusion_matrix\n",
    "from sklearn.metrics import accuracy_score\n",
    "from yellowbrick.classifier import ClassificationReport\n",
    "from yellowbrick.features import FeatureImportances\n",
    "\n",
    "%matplotlib inline"
   ]
  },
  {
   "cell_type": "markdown",
   "metadata": {},
   "source": [
    "### Increase the size of the screen"
   ]
  },
  {
   "cell_type": "code",
   "execution_count": null,
   "metadata": {},
   "outputs": [],
   "source": [
    "pd.set_option('display.height', 1000)\n",
    "pd.set_option('display.max_rows', 500)\n",
    "pd.set_option('display.max_columns', 500)\n",
    "pd.set_option('display.width', 1000)"
   ]
  },
  {
   "cell_type": "markdown",
   "metadata": {},
   "source": [
    "### Decrypt Credentials and Connect to Database"
   ]
  },
  {
   "cell_type": "code",
   "execution_count": null,
   "metadata": {},
   "outputs": [],
   "source": [
    "#Uncode the secret license file\n",
    "#Uncode the secret license file\n",
    "def unencrypt():\n",
    "    try:\n",
    "        key = b'IXx5rHfP15FqP4ahx2pwcud-XmcBzU553Ri6p-nVhnc=' #Fernet.generate_key()\n",
    "        cipher_suite = Fernet(key)\n",
    "        with open('/usr/local/etc/musicmood_bytes.bin', 'rb') as file_object:\n",
    "            for line in file_object:\n",
    "                encryptedpwd = line\n",
    "        uncipher_text = (cipher_suite.decrypt(encryptedpwd))\n",
    "        plain_text_encryptedpassword = bytes(uncipher_text).decode(\"utf-8\") #convert to string\n",
    "        x = json.loads(plain_text_encryptedpassword, object_hook=lambda d: namedtuple('X', d.keys())(*d.values()))\n",
    "        return x\n",
    "    except Exception as e:\n",
    "        print(str(e))\n",
    "        return \"Error\" \n",
    "\n",
    "#Setup the database connection\n",
    "credentials = unencrypt()\n",
    "user_id = credentials.user\n",
    "user_password = credentials.password\n",
    "dbname = credentials.dbname\n",
    "server = credentials.server\n",
    "conn = pymysql.connect(server,user_id,user_password,dbname)"
   ]
  },
  {
   "cell_type": "markdown",
   "metadata": {},
   "source": [
    "### Load the normalized table"
   ]
  },
  {
   "cell_type": "code",
   "execution_count": null,
   "metadata": {},
   "outputs": [],
   "source": [
    "start_time = time.time()\n",
    "df = pd.read_sql('SELECT * FROM songs_instance_normalized', con = conn)\n",
    "print('--- %s seconds ---' % (time.time() - start_time))\n",
    "    \n",
    "df.drop(['index'],axis=1, inplace=True)\n",
    "df.head(15)\n",
    "\n",
    "#df.describe()\n",
    "#print(df.columns)"
   ]
  },
  {
   "cell_type": "markdown",
   "metadata": {},
   "source": [
    "### Visualize only important features "
   ]
  },
  {
   "cell_type": "code",
   "execution_count": null,
   "metadata": {},
   "outputs": [],
   "source": [
    "#songs = df[['decade', 'duration', 'key_song', 'loudness', 'mode', 'tempo', 'time_signature', \\\n",
    "#            'words_song_u','words_song', 'words_song_r', 'words_genre_u','words_genre','words_genre_r','words_second',\\\n",
    "#            'speed_general', 'artist_familiarity', 'artist_hotttnesss', \\\n",
    "#            'gnr_Metal','is_top40']]\n",
    "songs = df [['duration', 'key_song', 'loudness', 'mode', 'tempo', 'time_signature', 'words_song_u', 'words_song', \\\n",
    "             'words_song_r', 'words_genre_u', 'words_genre', 'words_genre_r', 'words_second', 'speed_general', \\\n",
    "             'artist_familiarity', 'artist_hotttnesss', 'gnr_Blues', 'gnr_Country', 'gnr_Folk', 'gnr_Funk', \\\n",
    "             'gnr_House Electronic Trance', 'gnr_Jazz', 'gnr_Latin', 'gnr_Metal', 'gnr_Pop', 'gnr_Pop Standards', \\\n",
    "             'gnr_Punk', 'gnr_Rap Hip Hop', 'gnr_Rhythm and Blues', 'gnr_Rock', 'gnr_Rock and Roll', \\\n",
    "             'gnr_Ska Reggae Dancehall', 'is_top40']]"
   ]
  },
  {
   "cell_type": "markdown",
   "metadata": {},
   "source": [
    "### Correlation Matrix Plot"
   ]
  },
  {
   "cell_type": "code",
   "execution_count": null,
   "metadata": {},
   "outputs": [],
   "source": [
    "import seaborn as sns\n",
    "corr = songs.corr()\n",
    "fig, ax = plt.subplots(figsize=(25,15)) \n",
    "ax=sns.heatmap(corr, \n",
    "            xticklabels=corr.columns.values,\n",
    "            yticklabels=corr.columns.values, annot=True, linewidths=.5, cmap=\"Greens\")\n",
    "plt.show()"
   ]
  },
  {
   "cell_type": "markdown",
   "metadata": {},
   "source": [
    "### Scatterplot"
   ]
  },
  {
   "cell_type": "code",
   "execution_count": null,
   "metadata": {},
   "outputs": [],
   "source": [
    "import seaborn as sns; sns.set(style=\"ticks\", color_codes=True)\n",
    "import matplotlib.pyplot as plt\n",
    "g = sns.pairplot(songs, size=3, hue='is_top40', vars=['duration', 'key_song', 'loudness', 'mode', 'tempo', \\\n",
    "                                      'time_signature','is_top40'], kind=\"reg\")"
   ]
  },
  {
   "cell_type": "code",
   "execution_count": null,
   "metadata": {},
   "outputs": [],
   "source": [
    "import seaborn as sns; sns.set(style=\"ticks\", color_codes=True)\n",
    "import matplotlib.pyplot as plt\n",
    "g = sns.pairplot(songs, size=3, hue='is_top40', vars=['words_song_u','words_song', 'words_song_r', 'words_genre_u','words_genre',\\\n",
    "                                      'words_genre_r','words_second','is_top40'], kind=\"reg\")"
   ]
  },
  {
   "cell_type": "code",
   "execution_count": null,
   "metadata": {},
   "outputs": [],
   "source": [
    "import seaborn as sns; sns.set(style=\"ticks\", color_codes=True)\n",
    "import matplotlib.pyplot as plt\n",
    "g = sns.pairplot(songs,hue='is_top40', size=3, vars=['speed_general', 'artist_familiarity', 'artist_hotttnesss', \\\n",
    "            'gnr_Metal','is_top40'], kind=\"reg\")"
   ]
  },
  {
   "cell_type": "markdown",
   "metadata": {},
   "source": [
    "### Scatter Matrix"
   ]
  },
  {
   "cell_type": "code",
   "execution_count": null,
   "metadata": {},
   "outputs": [],
   "source": [
    "# Create a scatter matrix of the dataframe features\n",
    "from pandas.plotting import scatter_matrix\n",
    "scatter_matrix(songs, alpha=0.5, figsize=(22, 22), diagonal='kde')\n",
    "plt.show()"
   ]
  },
  {
   "cell_type": "markdown",
   "metadata": {},
   "source": [
    "### Kernel Density Estimation Plots"
   ]
  },
  {
   "cell_type": "code",
   "execution_count": null,
   "metadata": {},
   "outputs": [],
   "source": [
    "songs.plot(kind='kde', subplots=True, layout=(5,7), sharex=False, sharey=False, figsize=(25,25))\n",
    "plt.show()"
   ]
  },
  {
   "cell_type": "markdown",
   "metadata": {},
   "source": [
    "### Box Plots "
   ]
  },
  {
   "cell_type": "code",
   "execution_count": null,
   "metadata": {},
   "outputs": [],
   "source": [
    "songs.plot(kind='box', subplots=True, layout=(5,7), sharex=False, sharey=False, figsize=(30,30))\n",
    "plt.show()"
   ]
  },
  {
   "cell_type": "markdown",
   "metadata": {},
   "source": [
    "### Parallel Coordinates"
   ]
  },
  {
   "cell_type": "code",
   "execution_count": null,
   "metadata": {},
   "outputs": [],
   "source": [
    "#from pandas.plotting import parallel_coordinates\n",
    "#plt.figure(figsize=(20,5))\n",
    "#dataset = df[['loudness','mode','duration','time_signature','tempo','key_song','is_top40']]\n",
    "#parallel_coordinates(songs, 'is_top40',color=['r','b'], alpha=0.45)\n",
    "#plt.show()\n",
    "#songs.columns\n",
    "from yellowbrick.features import ParallelCoordinates\n",
    "# features = ['duration', 'key_song', 'loudness', 'mode', 'tempo', 'time_signature', 'words_song_u', \\\n",
    "#             'words_song', 'words_song_r', 'words_genre_u', 'words_genre', 'words_genre_r', 'words_second', \n",
    "#             'speed_general', 'artist_familiarity', 'artist_hotttnesss', 'gnr_Metal']\n",
    "classes = [\"Top40\", \"No Hit\"]\n",
    "\n",
    "features = [ 'gnr_Metal','duration', 'loudness', 'mode', 'tempo', 'words_song','gnr_Rock', 'words_song_r', 'words_genre_u', 'words_genre_r',\\\n",
    "            'words_second',  'gnr_Rock and Roll', 'artist_hotttnesss']\n",
    "X = songs[features]\n",
    "y = songs.is_top40\n",
    "_, ax = plt.subplots(figsize=(20,8))\n",
    "# Instantiate the visualizer\n",
    "visualizer = ParallelCoordinates(\n",
    "    classes=classes, features=features, normalize='minmax',sample=0.5, shuffle=True\n",
    ")\n",
    "\n",
    "# Fit and transform the data to the visualizer\n",
    "visualizer.fit_transform(X, y)\n",
    "\n",
    "# Finalize the title and axes then display the visualization\n",
    "visualizer.poof()"
   ]
  },
  {
   "cell_type": "markdown",
   "metadata": {},
   "source": [
    "### Rad Viz"
   ]
  },
  {
   "cell_type": "code",
   "execution_count": null,
   "metadata": {},
   "outputs": [],
   "source": [
    "# Specify the features of interest and the classes of the target\n",
    "classes = [\"Top40\", \"NoHit\"]\n",
    "# Extract the numpy arrays from the data frame\n",
    "X = songs[features].as_matrix()\n",
    "y = songs.is_top40.as_matrix()\n",
    "# Import the visualizer\n",
    "from yellowbrick.features import RadViz\n",
    "\n",
    "# Instantiate the visualizer\n",
    "_,ax = plt.subplots(figsize=(20,20))\n",
    "visualizer = RadViz(classes=classes, features=features)\n",
    "\n",
    "visualizer.fit(X, y)      # Fit the data to the visualizer\n",
    "visualizer.transform(X)   # Transform the data\n",
    "visualizer.poof()         # Draw/show/poof the data"
   ]
  },
  {
   "cell_type": "markdown",
   "metadata": {},
   "source": [
    "# Initial Model Comparison"
   ]
  },
  {
   "cell_type": "markdown",
   "metadata": {},
   "source": [
    "### Split-Out validation dataset"
   ]
  },
  {
   "cell_type": "code",
   "execution_count": null,
   "metadata": {},
   "outputs": [],
   "source": [
    "array = songs.values\n",
    "X = array[:,0:-1]\n",
    "Y = array[:,-1] #is_top40\n",
    "    \n",
    "validation_size = 0.20\n",
    "seed = 7\n",
    "X_train, X_validation, Y_train, Y_validation = model_selection.train_test_split(X, Y, test_size=validation_size, random_state=seed)"
   ]
  },
  {
   "cell_type": "markdown",
   "metadata": {},
   "source": [
    "  ### Test options and evaluation metric"
   ]
  },
  {
   "cell_type": "code",
   "execution_count": null,
   "metadata": {},
   "outputs": [],
   "source": [
    "seed = 7\n",
    "# scoring = 'accuracy'\n",
    "scoring = 'accuracy'"
   ]
  },
  {
   "cell_type": "code",
   "execution_count": null,
   "metadata": {},
   "outputs": [],
   "source": [
    "from sklearn.naive_bayes import GaussianNB\n",
    "from sklearn.naive_bayes import MultinomialNB\n",
    "from sklearn.naive_bayes import BernoulliNB\n",
    "from sklearn.tree import DecisionTreeClassifier\n",
    "from sklearn.ensemble import RandomForestClassifier\n",
    "\n",
    "from sklearn.discriminant_analysis import LinearDiscriminantAnalysis\n",
    "from sklearn.discriminant_analysis import QuadraticDiscriminantAnalysis\n",
    "\n",
    "from sklearn.linear_model import LogisticRegression\n",
    "from sklearn.linear_model import LogisticRegressionCV\n",
    "\n",
    "from sklearn.neighbors import KNeighborsClassifier\n",
    "from sklearn.neighbors import NearestCentroid\n",
    "from sklearn.neighbors import NearestNeighbors\n",
    "from sklearn.neighbors import RadiusNeighborsClassifier\n",
    "\n",
    "from sklearn.svm import SVC\n",
    "from sklearn.svm import NuSVC\n",
    "from sklearn.svm import LinearSVC\n",
    "\n",
    "from sklearn.ensemble import AdaBoostClassifier"
   ]
  },
  {
   "cell_type": "markdown",
   "metadata": {},
   "source": [
    "### Selected Algorithms"
   ]
  },
  {
   "cell_type": "code",
   "execution_count": null,
   "metadata": {},
   "outputs": [],
   "source": [
    "models = []\n",
    "# #Classification Models\n",
    "# #Naive Bayes\n",
    "# models.append(('NB', GaussianNB(priors=None)))\n",
    "# models.append(('BNB', BernoulliNB(alpha=1.0)))\n",
    "# #Decision Tree\n",
    "# models.append(('CART',DecisionTreeClassifier(criterion = 'entropy', splitter='random', max_depth = 10)))\n",
    "# models.append(('RFC', RandomForestClassifier(n_estimators=10,max_depth=10)))\n",
    "# #Discriminant Analysis\n",
    "# models.append(('LDA', LinearDiscriminantAnalysis()))\n",
    "# models.append(('QDA', QuadraticDiscriminantAnalysis()))\n",
    "\n",
    "# #LogisticRegression\n",
    "# models.append(('LRG', LogisticRegression()))\n",
    "# models.append(('LCV', LogisticRegressionCV()))\n",
    "\n",
    "# #KNN\n",
    "# models.append(('KNN', KNeighborsClassifier()))\n",
    "# models.append(('NCT', NearestCentroid()))\n",
    "# #models.append(('KNN', NearestNeighbors()))\n",
    "# models.append(('RNC', RadiusNeighborsClassifier(radius=5.0, outlier_label=1)))\n",
    "# #Support Vector Machine\n",
    "# models.append(('SVM', SVC())) \n",
    "# models.append(('NuSVM', NuSVC())) \n",
    "# #kernel=\"linear\", C=0.025)))\n",
    "# models.append(('LinearSVC', LinearSVC())) #kernel=\"linear\", C=0.025)))\n",
    "              \n",
    "# models.append(('ABC',AdaBoostClassifier()))\n",
    "\n",
    "\n",
    "KNeighborsClassifier().get_params(deep = True)\n",
    "n_neighbors = np.linspace(1,12,num=12, endpoint=True)\n",
    "for a in range(len(n_neighbors)):\n",
    "    models.append(('KNC'+ str(int(n_neighbors[a])), KNeighborsClassifier(algorithm = 'auto', metric = 'minkowski', n_jobs= -1, n_neighbors= int(n_neighbors[a]))))\n",
    "                                                          \n",
    "\n",
    "\n",
    "# import numpy as np\n",
    "# from yellowbrick.model_selection import ValidationCurve\n",
    "\n",
    "# pr = np.linspace(1, 5, num=5, endpoint=True)\n",
    "# print(np.linspace(1, 5, num=5, endpoint=True))\n",
    "# model = ValidationCurve(KNeighborsClassifier(), param_name=\"n_neighbors\", param_range=pr)\n",
    "# model.fit(X_train, Y_train)\n",
    "# model.poof()\n"
   ]
  },
  {
   "cell_type": "markdown",
   "metadata": {},
   "source": [
    "### Initial Evaluation Each Model in Turn"
   ]
  },
  {
   "cell_type": "code",
   "execution_count": null,
   "metadata": {},
   "outputs": [],
   "source": [
    "results = []\n",
    "names = []\n",
    "# model1=KNeighborsClassifier(n_neighbors=4)\n",
    "# print(model1)\n",
    "# cv_results = model_selection.cross_val_score(model1, X_train, Y_train, cv=3, scoring=scoring)\n",
    "# msg = '%s: %f (%f)'% ('123: ', cv_results.mean(), cv_results.std())\n",
    "# print(msg)\n",
    "\n",
    "for name, model in models:\n",
    "    start_time = time.time()\n",
    "    kfold = model_selection.KFold(n_splits=12, random_state=1)\n",
    "#     print (kfold)\n",
    "    cv_results = model_selection.cross_val_score(model, X_train, Y_train, cv=kfold, scoring=scoring)\n",
    "    results.append(cv_results)\n",
    "    names.append(name)\n",
    "    msg = '%s: %f (%f)'% (name, cv_results.mean(), cv_results.std())\n",
    "    print(msg)\n",
    "    print('--- %s seconds ---' % (time.time() - start_time))"
   ]
  },
  {
   "cell_type": "markdown",
   "metadata": {},
   "source": [
    "### Compare Algorithms"
   ]
  },
  {
   "cell_type": "code",
   "execution_count": null,
   "metadata": {},
   "outputs": [],
   "source": [
    "fig = plt.figure(figsize=(10, 8))\n",
    "fig.suptitle('Algorithm Comparison')\n",
    "ax = fig.add_subplot(111)\n",
    "plt.boxplot(results)\n",
    "ax.set_xticklabels(names)\n",
    "plt.show()"
   ]
  },
  {
   "cell_type": "markdown",
   "metadata": {},
   "source": [
    "### Applying the Visualization to the Models"
   ]
  },
  {
   "cell_type": "code",
   "execution_count": null,
   "metadata": {},
   "outputs": [],
   "source": [
    "from yellowbrick.classifier import ClassificationReport\n",
    "classes = [\"IsTop40\", \"NoHit\"]\n",
    "def plotting(name, model):\n",
    "    model.fit(X_train, Y_train)\n",
    "    predictions = model.predict(X_validation)\n",
    "    print(name)\n",
    "    print(accuracy_score(Y_validation, predictions))\n",
    "    print(confusion_matrix(Y_validation, predictions))\n",
    "    visualizer = ClassificationReport(model, classes=classes, support=True)\n",
    "    visualizer.fit(X_train, Y_train)  # Fit the visualizer and the model\n",
    "    visualizer.score(X_validation, Y_validation)  # Evaluate the model on the test data\n",
    "    g = visualizer.poof()             # Draw/show/poof the data\n",
    "    \n",
    "for name, model in models:\n",
    "    plotting(name, model)"
   ]
  },
  {
   "cell_type": "code",
   "execution_count": null,
   "metadata": {},
   "outputs": [],
   "source": [
    "from sklearn.linear_model import Lasso\n",
    "from yellowbrick.classifier import ClassPredictionError\n",
    "\n",
    "def vizerror(name, model):\n",
    "    # Instantiate the visualizer\n",
    "    visualizer = ClassPredictionError(\n",
    "        model, classes=classes)\n",
    "    # Fit\n",
    "    visualizer.fit(X_train, Y_train)\n",
    "    # Score and visualize\n",
    "    visualizer.score(X_validation, Y_validation)\n",
    "    visualizer.poof()\n",
    "    \n",
    "for name, model in models:\n",
    "    vizerror(name, model)"
   ]
  },
  {
   "cell_type": "code",
   "execution_count": null,
   "metadata": {},
   "outputs": [],
   "source": []
  }
 ],
 "metadata": {
  "kernelspec": {
   "display_name": "Python 3",
   "language": "python",
   "name": "python3"
  },
  "language_info": {
   "codemirror_mode": {
    "name": "ipython",
    "version": 3
   },
   "file_extension": ".py",
   "mimetype": "text/x-python",
   "name": "python",
   "nbconvert_exporter": "python",
   "pygments_lexer": "ipython3",
   "version": "3.6.5"
  }
 },
 "nbformat": 4,
 "nbformat_minor": 2
}

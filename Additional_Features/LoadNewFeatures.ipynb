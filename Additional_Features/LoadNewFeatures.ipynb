{
 "cells": [
  {
   "cell_type": "code",
   "execution_count": 1,
   "metadata": {},
   "outputs": [
    {
     "name": "stderr",
     "output_type": "stream",
     "text": [
      "/anaconda3/lib/python3.6/site-packages/h5py/__init__.py:36: FutureWarning: Conversion of the second argument of issubdtype from `float` to `np.floating` is deprecated. In future, it will be treated as `np.float64 == np.dtype(float).type`.\n",
      "  from ._conv import register_converters as _register_converters\n"
     ]
    },
    {
     "ename": "ModuleNotFoundError",
     "evalue": "No module named 'mysql'",
     "output_type": "error",
     "traceback": [
      "\u001b[0;31m---------------------------------------------------------------------------\u001b[0m",
      "\u001b[0;31mModuleNotFoundError\u001b[0m                       Traceback (most recent call last)",
      "\u001b[0;32m<ipython-input-1-8f79adcbc90c>\u001b[0m in \u001b[0;36m<module>\u001b[0;34m()\u001b[0m\n\u001b[1;32m      1\u001b[0m \u001b[0;32mimport\u001b[0m \u001b[0mh5py\u001b[0m\u001b[0;34m\u001b[0m\u001b[0m\n\u001b[1;32m      2\u001b[0m \u001b[0;32mimport\u001b[0m \u001b[0mnumpy\u001b[0m \u001b[0;32mas\u001b[0m \u001b[0mnp\u001b[0m\u001b[0;34m\u001b[0m\u001b[0m\n\u001b[0;32m----> 3\u001b[0;31m \u001b[0;32mimport\u001b[0m \u001b[0mmysql\u001b[0m\u001b[0;34m.\u001b[0m\u001b[0mconnector\u001b[0m\u001b[0;34m\u001b[0m\u001b[0m\n\u001b[0m\u001b[1;32m      4\u001b[0m \u001b[0;32mfrom\u001b[0m \u001b[0mmysql\u001b[0m\u001b[0;34m.\u001b[0m\u001b[0mconnector\u001b[0m \u001b[0;32mimport\u001b[0m \u001b[0merrorcode\u001b[0m\u001b[0;34m\u001b[0m\u001b[0m\n\u001b[1;32m      5\u001b[0m \u001b[0;34m\u001b[0m\u001b[0m\n",
      "\u001b[0;31mModuleNotFoundError\u001b[0m: No module named 'mysql'"
     ]
    }
   ],
   "source": [
    "import h5py\n",
    "import numpy as np\n",
    "import mysql.connector\n",
    "from mysql.connector import errorcode\n",
    "\n",
    "config = {\n",
    "  'user': 'ivan',\n",
    "  'password': '********',\n",
    "  'host': 'musicmood-instance.ctjjankvidir.us-east-1.rds.amazonaws.com',\n",
    "  'database': 'musicmood',\n",
    "  'raise_on_warnings': True,\n",
    "}\n",
    "\n",
    "filename = '/Volumes/Samsung_T5/1M_SONGS/A/E/E/TRAEEGO12903CF7D27.h5'\n",
    "f = h5py.File(filename, 'r')\n",
    "\n",
    "data_set = f['analysis']\n",
    "arrlev = data_set['songs']\n",
    "\n",
    "track_id = arrlev['track_id']\n",
    "danceability = arrlev['danceability']\n",
    "duration = arrlev['duration']\n",
    "end_of_fade_in = arrlev['end_of_fade_in']\n",
    "energy = arrlev['energy']\n",
    "key = arrlev['key']\n",
    "key_confidence = arrlev['key_confidence']\n",
    "loudness = arrlev['loudness']\n",
    "mode = arrlev['mode']\n",
    "mode_confidence = arrlev['mode_confidence']\n",
    "start_of_fade_out = arrlev['start_of_fade_out']\n",
    "tempo = arrlev['tempo']\n",
    "time_signature = arrlev['time_signature']\n",
    "time_signature_confidence = arrlev['time_signature_confidence']\n",
    "\n",
    "try:\n",
    "    cnx = mysql.connector.connect(**config)\n",
    "    cursor = cnx.cursor()\n",
    "    sql = \"INSERT INTO `musicmood`.`songs_new_features`(`track_id`,`danceability`,`duration`,`end_of_fade_in`,`energy`,`key`,`key_confidence`,`loudness`,`mode`,`mode_confidence`,`start_of_fade_out`,`tempo`,`time_signature`,`time_signature_confidence`) VALUES(%s,%f,%f,%f,%f,%i,%f,%f,%i,%f,%f,%f,%i,%f)\"\n",
    "    cursor.execute(sql, (track_id, danceability, duration, end_of_fade_in, energy, key, key_confidence, loudness, mode, mode_confidence, start_of_fade_out, tempo, time_signature, time_signature_confidence))\n",
    "    cnx.commit()\n",
    "    cursor.close()\n",
    "    cnx.close()\n",
    "    \n",
    "except mysql.connector.Error as err:\n",
    "    if err.errno == errorcode.ER_ACCESS_DENIED_ERROR:\n",
    "        print(\"Something is wrong with your user name or password\")\n",
    "    elif err.errno == errorcode.ER_BAD_DB_ERROR:\n",
    "        print(\"Database does not exist\")\n",
    "    else:\n",
    "        print(err)\n",
    "else:\n",
    "    cnx.close()"
   ]
  },
  {
   "cell_type": "code",
   "execution_count": null,
   "metadata": {},
   "outputs": [],
   "source": []
  }
 ],
 "metadata": {
  "kernelspec": {
   "display_name": "Python [default]",
   "language": "python",
   "name": "python3"
  },
  "language_info": {
   "codemirror_mode": {
    "name": "ipython",
    "version": 3
   },
   "file_extension": ".py",
   "mimetype": "text/x-python",
   "name": "python",
   "nbconvert_exporter": "python",
   "pygments_lexer": "ipython3",
   "version": "3.6.4"
  }
 },
 "nbformat": 4,
 "nbformat_minor": 2
}
